{
  "nbformat": 4,
  "nbformat_minor": 0,
  "metadata": {
    "colab": {
      "provenance": [],
      "authorship_tag": "ABX9TyMXuz2yjLZ+zgDsMQ7CrdAl",
      "include_colab_link": true
    },
    "kernelspec": {
      "name": "python3",
      "display_name": "Python 3"
    },
    "language_info": {
      "name": "python"
    }
  },
  "cells": [
    {
      "cell_type": "markdown",
      "metadata": {
        "id": "view-in-github",
        "colab_type": "text"
      },
      "source": [
        "<a href=\"https://colab.research.google.com/github/lflunal/ppi_20/blob/Andres_Ramirez/Registro_Ejercicios.ipynb\" target=\"_parent\"><img src=\"https://colab.research.google.com/assets/colab-badge.svg\" alt=\"Open In Colab\"/></a>"
      ]
    },
    {
      "cell_type": "code",
      "execution_count": null,
      "metadata": {
        "id": "6xOmtB8vpCLd"
      },
      "outputs": [],
      "source": [
        "# Importar librerias\n",
        "import pandas as pd\n",
        "import streamlit as st\n",
        "# Crear pie de pagina con los datos de contacto de los creadores\n",
        "footer = \"\"\"\n",
        "<style>\n",
        "    .footer {\n",
        "        position: fixed;\n",
        "        left: 0;\n",
        "        bottom: 0;\n",
        "        z-index: 10;\n",
        "        width: 100%;\n",
        "        background-color: rgb(14, 17, 23);\n",
        "        color: black;\n",
        "        text-align: center;\n",
        "    }\n",
        "    .footer p {\n",
        "        color: white;\n",
        "    }\n",
        "</style>\n",
        "<div class=\"footer\">\n",
        "    <p>App desarrollada por: <br />\n",
        "    Luis Fernando López Echeverri | Andres Felipe Ramirez Suarez <br />\n",
        "    Contactenos: <a href=\"#\">lulopeze@unal.edu.co</a> | <a href=\"#\">aramirezsu@unal.edu.co</a></p>\n",
        "</div>\n",
        "\"\"\"\n",
        "st.markdown(footer,unsafe_allow_html=True)\n",
        "\n",
        "url_exercise = (\n",
        "    \"https://docs.google.com/spreadsheets/d/e/\"\n",
        "    \"2PACX-1vTXXom0c0qWSJIPrIQZo_0qGxSzoM0u_xe8Cijv1ZAY\"\n",
        "    \"bP6EKshVAtvwVV2eh5Yj1Ueio8tzb7FEsV5j/pub?output=csv\"\n",
        "\n",
        ")\n",
        "\n",
        "df_exercise=pd.read_csv(url_exercise)\n",
        "\n",
        "# Convertir a enteros en el DataFrame food\n",
        "columnas_to_clean = [\"130 lb\", \"155 lb\", \"180 lb\", \"205 lb\"]\n",
        "\n",
        "for elements in columnas_to_clean:\n",
        "    df_exercise[elements] = df_exercise[elements].astype(int)\n",
        "\n",
        "# Mostrar el dataframe\n",
        "st.write(\"### Lista de ejercicios por hora:\")\n",
        "st.write(df_exercise)\n",
        "\n",
        "# Elemento interactivo para que el usuario seleccione alimentos\n",
        "ejercicio_seleccionado = st.selectbox(\n",
        "    \"Selecciona un ejercicio:\",\n",
        "    df_exercise[\"Activity, Exercise or Sport (1 hour)\"]\n",
        ")\n",
        "\n",
        "# Obtener los detalles del alimento seleccionado\n",
        "detalles_ejercicio = df_exercise[\n",
        "    df_exercise[\"Activity, Exercise or Sport (1 hour)\"] == ejercicio_seleccionado\n",
        "]\n",
        "\n",
        "if not detalles_ejercicio.empty:\n",
        "    st.write(\"### Detalles del Ejercicio Seleccionado:\")\n",
        "    st.write(detalles_ejercicio)\n",
        "else:\n",
        "    st.write(\"Selecciona un ejercicio de la lista.\")\n",
        "\n",
        "# Inicializa una variable para realizar,\n",
        "# el seguimiento del total de calorías quemadas\n",
        "total_calorias_quemadas = 0\n",
        "\n",
        "# Variable que almacena varios ejercicios\n",
        "ejercicios_seleccionados = st.multiselect(\n",
        "    \"Selecciona los ejercicios que has realizado:\",\n",
        "    df_exercise[\"Activity, Exercise or Sport (1 hour)\"]\n",
        ")\n",
        "\n",
        "# Obtener los detalles de los ejercicios seleccionados y sumar las calorías\n",
        "for ejercicio_seleccionado in ejercicios_seleccionados:\n",
        "    detalles_ejercicio = df_exercise[df_exercise[\"Activity, Exercise or Sport (1 hour)\"] == ejercicio_seleccionado]\n",
        "\n",
        "    if not detalles_ejercicio.empty and \"130 lb\" in detalles_ejercicio.columns:\n",
        "        calorias_ejercicio = detalles_ejercicio[\"130 lb\"].values[0]\n",
        "        total_calorias_quemadas += calorias_ejercicio\n",
        "        st.write(f\"Detalles del Ejercicio Seleccionado ({ejercicio_seleccionado}):\")\n",
        "        st.write(detalles_ejercicio)\n",
        "        st.write(f\"Calorías quemadas:{calorias_ejercicio}\")\n",
        "\n",
        "# Mostrar el total de calorías quemadas\n",
        "st.write(f\"Total de calorías quemadas: {total_calorias_quemadas}\")\n"
      ]
    }
  ]
}